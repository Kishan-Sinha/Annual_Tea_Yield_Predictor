{
  "cells": [
    {
      "cell_type": "markdown",
      "metadata": {
        "id": "view-in-github",
        "colab_type": "text"
      },
      "source": [
        "<a href=\"https://colab.research.google.com/github/Kishan-Sinha/Annual_Tea_Yield_Predictor/blob/main/Setting_up_the_UI_for_tea_model.ipynb\" target=\"_parent\"><img src=\"https://colab.research.google.com/assets/colab-badge.svg\" alt=\"Open In Colab\"/></a>"
      ]
    },
    {
      "cell_type": "code",
      "source": [
        "# importing necessary libraries\n",
        "\n",
        "import gradio as gr\n",
        "import numpy as np\n",
        "import joblib\n",
        "\n",
        "# Loading trained model and scaler\n",
        "\n",
        "model = joblib.load(\"/content/sample_data/Tea_output_model.pkl\")\n",
        "\n",
        "scaler = joblib.load(\"/content/sample_data/standard_scaler.pkl\")  # StandardScaler used during training\n",
        "\n",
        "# Prediction function\n",
        "\n",
        "def predict_yield(green_leaves, area):\n",
        "\n",
        "    if area == 0:\n",
        "\n",
        "        return \"❌ Area cannot be zero.\"\n",
        "\n",
        "    leafs_pa = green_leaves / area\n",
        "\n",
        "    scaled_input = scaler.transform([[leafs_pa]])\n",
        "\n",
        "    prediction = model.predict(scaled_input)[0]\n",
        "\n",
        "    return f\"🌿 Predicted Annual Tea Yield: {prediction:.3f} kg\"\n",
        "\n",
        "# Setting up the launcher\n",
        "\n",
        "with gr.Blocks(theme=gr.themes.Ocean()) as demo:\n",
        "\n",
        "    gr.Markdown(\"### 🍃 Tea Yield Prediction Tool\")\n",
        "\n",
        "    gr.Markdown(\"Enter values to estimate annual tea yield.\")\n",
        "\n",
        "    with gr.Row(equal_height=True):\n",
        "\n",
        "        with gr.Column(scale=4):\n",
        "\n",
        "            green_leaves = gr.Number(label=\"Green Leaves (kg)\")\n",
        "\n",
        "        gr.Markdown(\"<div style='border-left:1px solid #ccc;height:100%;margin:0 12px'></div>\")\n",
        "\n",
        "        with gr.Column(scale=4):\n",
        "\n",
        "            area = gr.Number(label=\"Area of Land (hectares)\")\n",
        "\n",
        "    output = gr.Textbox(label=\"Prediction\", lines=1)\n",
        "\n",
        "    with gr.Row():\n",
        "\n",
        "        predict_btn = gr.Button(\"📈 Predict Yield\")\n",
        "\n",
        "        predict_btn.click(fn=predict_yield, inputs=[green_leaves, area], outputs=output)\n",
        "\n",
        "demo.launch()"
      ],
      "metadata": {
        "id": "inNcScSh7jcX"
      },
      "execution_count": null,
      "outputs": []
    },
    {
      "cell_type": "markdown",
      "source": [
        "**The above code creates a temporary link for accessing the UI for model usage**"
      ],
      "metadata": {
        "id": "F0RpcSYv5lrj"
      }
    }
  ],
  "metadata": {
    "colab": {
      "provenance": [],
      "include_colab_link": true
    },
    "kernelspec": {
      "display_name": "Python 3",
      "name": "python3"
    }
  },
  "nbformat": 4,
  "nbformat_minor": 0
}
